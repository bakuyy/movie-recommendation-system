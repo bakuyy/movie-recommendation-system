{
 "cells": [
  {
   "cell_type": "markdown",
   "id": "bf4f0b41-c8c2-4772-8740-9d2ca135f2dc",
   "metadata": {},
   "source": [
    "## Imports"
   ]
  },
  {
   "cell_type": "code",
   "execution_count": 269,
   "id": "f102043e-9dce-4b1e-81f2-fc81fd65ee6e",
   "metadata": {},
   "outputs": [],
   "source": [
    "import pandas as pd\n",
    "import numpy as np\n",
    "import matplotlib.pyplot as plt\n",
    "import seaborn as sns"
   ]
  },
  {
   "cell_type": "code",
   "execution_count": 270,
   "id": "2e4e8b50-85d7-44e4-9e3e-31866dbbdc2d",
   "metadata": {},
   "outputs": [],
   "source": [
    "ratings = pd.read_csv('ratings.csv')\n",
    "movies = pd.read_csv('movies.csv')"
   ]
  },
  {
   "cell_type": "markdown",
   "id": "ddb9ed9b-07e1-4364-b173-a2db88951e79",
   "metadata": {},
   "source": [
    "## Exploratory Data"
   ]
  },
  {
   "cell_type": "code",
   "execution_count": 271,
   "id": "c59d0fd6-3791-4974-9be2-94e75528bc5d",
   "metadata": {},
   "outputs": [
    {
     "name": "stdout",
     "output_type": "stream",
     "text": [
      "Number of ratings 100836\n",
      "Number of movies 9724\n",
      "Number of users = 610\n",
      "Avg number of ratings per user: 165.3\n",
      "Avg number of ratings per movie: 10.37\n"
     ]
    }
   ],
   "source": [
    "n_ratings = len(ratings)\n",
    "n_movies = ratings['movieId'].nunique() #gets unique movies\n",
    "n_users = ratings['userId'].nunique()\n",
    "\n",
    "print(f'Number of ratings {n_ratings}')\n",
    "print(f'Number of movies {n_movies}')\n",
    "print(f'Number of users = {n_users}')\n",
    "print(f'Avg number of ratings per user: {round(n_ratings/n_users,2)}')\n",
    "print(f'Avg number of ratings per movie: {round(n_ratings/n_movies,2)}')"
   ]
  },
  {
   "cell_type": "code",
   "execution_count": 272,
   "id": "0e6d5573-2489-41ad-8f7f-b36d3a495619",
   "metadata": {},
   "outputs": [
    {
     "data": {
      "image/png": "[encoded data removed]",
      "text/plain": [
       "<Figure size 640x480 with 1 Axes>"
      ]
     },
     "metadata": {},
     "output_type": "display_data"
    }
   ],
   "source": [
    "sns.countplot(x='rating', data = ratings)\n",
    "plt.title(\"Distribution of ratings\", fontsize=14)\n",
    "plt.show()"
   ]
  },
  {
   "cell_type": "code",
   "execution_count": 273,
   "id": "52738bf8-b618-4774-a62e-656915a945e2",
   "metadata": {},
   "outputs": [
    {
     "name": "stdout",
     "output_type": "stream",
     "text": [
      "Mean global rating: 3.5\n"
     ]
    }
   ],
   "source": [
    "print(f'Mean global rating: {round(ratings['rating'].mean(),2)}')"
   ]
  },
  {
   "cell_type": "code",
   "execution_count": 274,
   "id": "35bf9482-c581-480a-b809-e008c86261f8",
   "metadata": {},
   "outputs": [
    {
     "name": "stdout",
     "output_type": "stream",
     "text": [
      "Mean ratings per user: 3.66\n"
     ]
    }
   ],
   "source": [
    "mean_ratings = ratings.groupby('userId')['rating'].mean()\n",
    "print(f'Mean ratings per user: {round(mean_ratings.mean(),2)}')"
   ]
  },
  {
   "cell_type": "code",
   "execution_count": 275,
   "id": "c44a2b03-8c17-42b0-a62b-f719c906123f",
   "metadata": {},
   "outputs": [
    {
     "data": {
      "text/plain": [
       "movieId\n",
       "356       329\n",
       "318       317\n",
       "296       307\n",
       "593       279\n",
       "2571      278\n",
       "         ... \n",
       "86279       1\n",
       "86922       1\n",
       "5962        1\n",
       "87660       1\n",
       "163981      1\n",
       "Name: count, Length: 9724, dtype: int64"
      ]
     },
     "execution_count": 275,
     "metadata": {},
     "output_type": "execute_result"
    }
   ],
   "source": [
    "ratings['movieId'].value_counts()"
   ]
  },
  {
   "cell_type": "markdown",
   "id": "e26e5b09-d4bd-437a-ac7b-18ff85b0724f",
   "metadata": {},
   "source": [
    "### 10 most rated movies"
   ]
  },
  {
   "cell_type": "code",
   "execution_count": 276,
   "id": "16613ffe-fe0a-4ce6-a900-5da10a7ae69b",
   "metadata": {},
   "outputs": [
    {
     "data": {
      "text/plain": [
       "title\n",
       "Forrest Gump (1994)                          329\n",
       "Shawshank Redemption, The (1994)             317\n",
       "Pulp Fiction (1994)                          307\n",
       "Silence of the Lambs, The (1991)             279\n",
       "Matrix, The (1999)                           278\n",
       "Star Wars: Episode IV - A New Hope (1977)    251\n",
       "Jurassic Park (1993)                         238\n",
       "Braveheart (1995)                            237\n",
       "Terminator 2: Judgment Day (1991)            224\n",
       "Schindler's List (1993)                      220\n",
       "Name: count, dtype: int64"
      ]
     },
     "execution_count": 276,
     "metadata": {},
     "output_type": "execute_result"
    }
   ],
   "source": [
    "movie_ratings = ratings.merge(movies, on=\"movieId\") #merges the two dataframes based on column column of userId\n",
    "movie_ratings['title'].value_counts()[0:10] #counts unique occurrences in title column, sorts in descending order"
   ]
  },
  {
   "cell_type": "markdown",
   "id": "103f7495-7dc5-407e-b5ea-627555aa0a29",
   "metadata": {},
   "source": [
    "### Lowest and highest rated movies"
   ]
  },
  {
   "cell_type": "code",
   "execution_count": 277,
   "id": "ecd43218-1983-44d9-bd16-99184c624be4",
   "metadata": {},
   "outputs": [
    {
     "data": {
      "text/html": [
       "<div>\n",
       "<style scoped>\n",
       "    .dataframe tbody tr th:only-of-type {\n",
       "        vertical-align: middle;\n",
       "    }\n",
       "\n",
       "    .dataframe tbody tr th {\n",
       "        vertical-align: top;\n",
       "    }\n",
       "\n",
       "    .dataframe thead th {\n",
       "        text-align: right;\n",
       "    }\n",
       "</style>\n",
       "<table border=\"1\" class=\"dataframe\">\n",
       "  <thead>\n",
       "    <tr style=\"text-align: right;\">\n",
       "      <th></th>\n",
       "      <th>movieId</th>\n",
       "      <th>title</th>\n",
       "      <th>genres</th>\n",
       "    </tr>\n",
       "  </thead>\n",
       "  <tbody>\n",
       "    <tr>\n",
       "      <th>2689</th>\n",
       "      <td>3604</td>\n",
       "      <td>Gypsy (1962)</td>\n",
       "      <td>Musical</td>\n",
       "    </tr>\n",
       "  </tbody>\n",
       "</table>\n",
       "</div>"
      ],
      "text/plain": [
       "      movieId         title   genres\n",
       "2689     3604  Gypsy (1962)  Musical"
      ]
     },
     "execution_count": 277,
     "metadata": {},
     "output_type": "execute_result"
    }
   ],
   "source": [
    "mean_ratings = ratings.groupby('movieId')[['rating']].mean()\n",
    "\n",
    "lowest_rating = mean_ratings['rating'].idxmin()\n",
    "movies[movies['movieId']==lowest_rating]\n"
   ]
  },
  {
   "cell_type": "code",
   "execution_count": 278,
   "id": "bac8d31f-3f67-4867-8f43-0eade09a9726",
   "metadata": {},
   "outputs": [
    {
     "data": {
      "text/html": [
       "<div>\n",
       "<style scoped>\n",
       "    .dataframe tbody tr th:only-of-type {\n",
       "        vertical-align: middle;\n",
       "    }\n",
       "\n",
       "    .dataframe tbody tr th {\n",
       "        vertical-align: top;\n",
       "    }\n",
       "\n",
       "    .dataframe thead th {\n",
       "        text-align: right;\n",
       "    }\n",
       "</style>\n",
       "<table border=\"1\" class=\"dataframe\">\n",
       "  <thead>\n",
       "    <tr style=\"text-align: right;\">\n",
       "      <th></th>\n",
       "      <th>movieId</th>\n",
       "      <th>title</th>\n",
       "      <th>genres</th>\n",
       "    </tr>\n",
       "  </thead>\n",
       "  <tbody>\n",
       "    <tr>\n",
       "      <th>48</th>\n",
       "      <td>53</td>\n",
       "      <td>Lamerica (1994)</td>\n",
       "      <td>Adventure|Drama</td>\n",
       "    </tr>\n",
       "  </tbody>\n",
       "</table>\n",
       "</div>"
      ],
      "text/plain": [
       "    movieId            title           genres\n",
       "48       53  Lamerica (1994)  Adventure|Drama"
      ]
     },
     "execution_count": 278,
     "metadata": {},
     "output_type": "execute_result"
    }
   ],
   "source": [
    "highest_rating = mean_ratings['rating'].idxmax()\n",
    "movies[movies['movieId']==highest_rating]\n",
    "#ratings[ratings['movieId']==highest_rating]\n",
    "# Note: this method isn't the most accurate, since it evaluates each movie solely off of ratings (not # of ratings)\n",
    "# A better approach is the Bayesian average"
   ]
  },
  {
   "cell_type": "markdown",
   "id": "0c189be1-dc3e-49f6-a161-3ef37f864478",
   "metadata": {},
   "source": [
    "## Bayesian Average Calculation"
   ]
  },
  {
   "cell_type": "raw",
   "id": "bb4fc67b-a31e-494a-a670-aebada1848e7",
   "metadata": {},
   "source": [
    "Bayesian Average is defined as:\n",
    "\n",
    "bayesian_average = (C * M + R * v) / (C + v)\n",
    "where:\n",
    "- C = mean rating across all items\n",
    "- M = minimum number of ratings required (a constant we choose)\n",
    "- R = average rating for the item\n",
    "- v = number of ratings for the item"
   ]
  },
  {
   "cell_type": "code",
   "execution_count": 279,
   "id": "ea200297-b3df-4856-b1b1-3a40a06d2f97",
   "metadata": {},
   "outputs": [
    {
     "data": {
      "text/html": [
       "<div>\n",
       "<style scoped>\n",
       "    .dataframe tbody tr th:only-of-type {\n",
       "        vertical-align: middle;\n",
       "    }\n",
       "\n",
       "    .dataframe tbody tr th {\n",
       "        vertical-align: top;\n",
       "    }\n",
       "\n",
       "    .dataframe thead th {\n",
       "        text-align: right;\n",
       "    }\n",
       "</style>\n",
       "<table border=\"1\" class=\"dataframe\">\n",
       "  <thead>\n",
       "    <tr style=\"text-align: right;\">\n",
       "      <th></th>\n",
       "      <th>count</th>\n",
       "      <th>mean</th>\n",
       "    </tr>\n",
       "    <tr>\n",
       "      <th>movieId</th>\n",
       "      <th></th>\n",
       "      <th></th>\n",
       "    </tr>\n",
       "  </thead>\n",
       "  <tbody>\n",
       "    <tr>\n",
       "      <th>1</th>\n",
       "      <td>215</td>\n",
       "      <td>3.920930</td>\n",
       "    </tr>\n",
       "    <tr>\n",
       "      <th>2</th>\n",
       "      <td>110</td>\n",
       "      <td>3.431818</td>\n",
       "    </tr>\n",
       "    <tr>\n",
       "      <th>3</th>\n",
       "      <td>52</td>\n",
       "      <td>3.259615</td>\n",
       "    </tr>\n",
       "    <tr>\n",
       "      <th>4</th>\n",
       "      <td>7</td>\n",
       "      <td>2.357143</td>\n",
       "    </tr>\n",
       "    <tr>\n",
       "      <th>5</th>\n",
       "      <td>49</td>\n",
       "      <td>3.071429</td>\n",
       "    </tr>\n",
       "  </tbody>\n",
       "</table>\n",
       "</div>"
      ],
      "text/plain": [
       "         count      mean\n",
       "movieId                 \n",
       "1          215  3.920930\n",
       "2          110  3.431818\n",
       "3           52  3.259615\n",
       "4            7  2.357143\n",
       "5           49  3.071429"
      ]
     },
     "execution_count": 279,
     "metadata": {},
     "output_type": "execute_result"
    }
   ],
   "source": [
    "movie_stats = ratings.groupby('movieId')['rating'].agg(['count','mean'])\n",
    "#groups the data by movieId then applies the count function, which gets the # of ratings each movie has, and mean, which is the average rating\n",
    "# create a new data frame with count and mean\n",
    "movie_stats.head()"
   ]
  },
  {
   "cell_type": "code",
   "execution_count": 280,
   "id": "792d6e4c-fdaf-4e1b-ba5f-dde3e5305c24",
   "metadata": {},
   "outputs": [
    {
     "name": "stdout",
     "output_type": "stream",
     "text": [
      "Avg # of ratings for a given movie: 10.37\n",
      "Avg rating per movie 3.26\n"
     ]
    }
   ],
   "source": [
    "C = movie_stats['count'].mean()\n",
    "m = movie_stats['mean'].mean()\n",
    "\n",
    "print(f'Avg # of ratings for a given movie: {C:.2f}')\n",
    "print(f'Avg rating per movie {m:.2f}')\n",
    "\n",
    "def bayesian_avg(ratings):\n",
    "    bayesian_avg = (C*m+ratings.sum())/(C+ratings.count())\n",
    "    return round(bayesian_avg,3)"
   ]
  },
  {
   "cell_type": "markdown",
   "id": "ffcb5398-102c-4d51-b534-36f4dd26ada7",
   "metadata": {},
   "source": [
    "### test bayesian avg on a specific movie"
   ]
  },
  {
   "cell_type": "code",
   "execution_count": 281,
   "id": "dc5766d8-3d23-4bbd-911b-a54c60f6fc3c",
   "metadata": {},
   "outputs": [
    {
     "data": {
      "text/plain": [
       "3.543"
      ]
     },
     "execution_count": 281,
     "metadata": {},
     "output_type": "execute_result"
    }
   ],
   "source": [
    "lamerica = pd.Series([5,5]) #this was the highest-rated movie, however only with 2 reviews\n",
    "bayesian_avg(lamerica)"
   ]
  },
  {
   "cell_type": "markdown",
   "id": "54e2b0d6-bb27-4fb0-aebd-c972811bdd51",
   "metadata": {},
   "source": [
    "### applying to all movies"
   ]
  },
  {
   "cell_type": "code",
   "execution_count": 282,
   "id": "102597ce-dbaa-48bf-86ca-0dfee3359a7b",
   "metadata": {},
   "outputs": [
    {
     "data": {
      "text/html": [
       "<div>\n",
       "<style scoped>\n",
       "    .dataframe tbody tr th:only-of-type {\n",
       "        vertical-align: middle;\n",
       "    }\n",
       "\n",
       "    .dataframe tbody tr th {\n",
       "        vertical-align: top;\n",
       "    }\n",
       "\n",
       "    .dataframe thead th {\n",
       "        text-align: right;\n",
       "    }\n",
       "</style>\n",
       "<table border=\"1\" class=\"dataframe\">\n",
       "  <thead>\n",
       "    <tr style=\"text-align: right;\">\n",
       "      <th></th>\n",
       "      <th>movieId</th>\n",
       "      <th>count</th>\n",
       "      <th>mean</th>\n",
       "      <th>bayesian_avg</th>\n",
       "    </tr>\n",
       "  </thead>\n",
       "  <tbody>\n",
       "    <tr>\n",
       "      <th>0</th>\n",
       "      <td>1</td>\n",
       "      <td>215</td>\n",
       "      <td>3.920930</td>\n",
       "      <td>3.891</td>\n",
       "    </tr>\n",
       "    <tr>\n",
       "      <th>1</th>\n",
       "      <td>2</td>\n",
       "      <td>110</td>\n",
       "      <td>3.431818</td>\n",
       "      <td>3.417</td>\n",
       "    </tr>\n",
       "    <tr>\n",
       "      <th>2</th>\n",
       "      <td>3</td>\n",
       "      <td>52</td>\n",
       "      <td>3.259615</td>\n",
       "      <td>3.260</td>\n",
       "    </tr>\n",
       "    <tr>\n",
       "      <th>3</th>\n",
       "      <td>4</td>\n",
       "      <td>7</td>\n",
       "      <td>2.357143</td>\n",
       "      <td>2.898</td>\n",
       "    </tr>\n",
       "    <tr>\n",
       "      <th>4</th>\n",
       "      <td>5</td>\n",
       "      <td>49</td>\n",
       "      <td>3.071429</td>\n",
       "      <td>3.105</td>\n",
       "    </tr>\n",
       "  </tbody>\n",
       "</table>\n",
       "</div>"
      ],
      "text/plain": [
       "   movieId  count      mean  bayesian_avg\n",
       "0        1    215  3.920930         3.891\n",
       "1        2    110  3.431818         3.417\n",
       "2        3     52  3.259615         3.260\n",
       "3        4      7  2.357143         2.898\n",
       "4        5     49  3.071429         3.105"
      ]
     },
     "execution_count": 282,
     "metadata": {},
     "output_type": "execute_result"
    }
   ],
   "source": [
    "bayesian_avg_ratings = ratings.groupby('movieId')['rating'].agg(bayesian_avg).reset_index()\n",
    "'''\n",
    "groups by movieId, selecting the column rating\n",
    ".agg applies the bayesian_avg function to rating series for each group\n",
    "after aggregation, the result is a series where movieId is used as an index: reset_index turns this series back into a dataframe\n",
    "'''\n",
    "bayesian_avg_ratings.columns = ['movieId','bayesian_avg']\n",
    "movie_stats = movie_stats.merge(bayesian_avg_ratings, on='movieId')\n",
    "\n",
    "movie_stats.head()"
   ]
  },
  {
   "cell_type": "code",
   "execution_count": 283,
   "id": "4ceb96dd-9604-4b74-891f-84606987f421",
   "metadata": {},
   "outputs": [
    {
     "data": {
      "text/html": [
       "<div>\n",
       "<style scoped>\n",
       "    .dataframe tbody tr th:only-of-type {\n",
       "        vertical-align: middle;\n",
       "    }\n",
       "\n",
       "    .dataframe tbody tr th {\n",
       "        vertical-align: top;\n",
       "    }\n",
       "\n",
       "    .dataframe thead th {\n",
       "        text-align: right;\n",
       "    }\n",
       "</style>\n",
       "<table border=\"1\" class=\"dataframe\">\n",
       "  <thead>\n",
       "    <tr style=\"text-align: right;\">\n",
       "      <th></th>\n",
       "      <th>movieId</th>\n",
       "      <th>count</th>\n",
       "      <th>mean</th>\n",
       "      <th>bayesian_avg</th>\n",
       "      <th>title</th>\n",
       "    </tr>\n",
       "  </thead>\n",
       "  <tbody>\n",
       "    <tr>\n",
       "      <th>1172</th>\n",
       "      <td>1556</td>\n",
       "      <td>19</td>\n",
       "      <td>1.605263</td>\n",
       "      <td>2.190</td>\n",
       "      <td>Speed 2: Cruise Control (1997)</td>\n",
       "    </tr>\n",
       "    <tr>\n",
       "      <th>2679</th>\n",
       "      <td>3593</td>\n",
       "      <td>19</td>\n",
       "      <td>1.657895</td>\n",
       "      <td>2.224</td>\n",
       "      <td>Battlefield Earth (2000)</td>\n",
       "    </tr>\n",
       "    <tr>\n",
       "      <th>1372</th>\n",
       "      <td>1882</td>\n",
       "      <td>33</td>\n",
       "      <td>1.954545</td>\n",
       "      <td>2.267</td>\n",
       "      <td>Godzilla (1998)</td>\n",
       "    </tr>\n",
       "    <tr>\n",
       "      <th>1144</th>\n",
       "      <td>1499</td>\n",
       "      <td>27</td>\n",
       "      <td>1.925926</td>\n",
       "      <td>2.297</td>\n",
       "      <td>Anaconda (1997)</td>\n",
       "    </tr>\n",
       "    <tr>\n",
       "      <th>1988</th>\n",
       "      <td>2643</td>\n",
       "      <td>16</td>\n",
       "      <td>1.687500</td>\n",
       "      <td>2.307</td>\n",
       "      <td>Superman IV: The Quest for Peace (1987)</td>\n",
       "    </tr>\n",
       "  </tbody>\n",
       "</table>\n",
       "</div>"
      ],
      "text/plain": [
       "      movieId  count      mean  bayesian_avg  \\\n",
       "1172     1556     19  1.605263         2.190   \n",
       "2679     3593     19  1.657895         2.224   \n",
       "1372     1882     33  1.954545         2.267   \n",
       "1144     1499     27  1.925926         2.297   \n",
       "1988     2643     16  1.687500         2.307   \n",
       "\n",
       "                                        title  \n",
       "1172           Speed 2: Cruise Control (1997)  \n",
       "2679                 Battlefield Earth (2000)  \n",
       "1372                          Godzilla (1998)  \n",
       "1144                          Anaconda (1997)  \n",
       "1988  Superman IV: The Quest for Peace (1987)  "
      ]
     },
     "execution_count": 283,
     "metadata": {},
     "output_type": "execute_result"
    }
   ],
   "source": [
    "movie_stats = movie_stats.merge(movies[['movieId','title']])\n",
    "movie_stats.sort_values(by='bayesian_avg', ascending=True).head() # highest or lowest rated movies based on bayesian"
   ]
  },
  {
   "cell_type": "markdown",
   "id": "28dc8c3e-26c7-4fbb-a6f6-2210bb3a2ca0",
   "metadata": {},
   "source": [
    "## Movie Genres"
   ]
  },
  {
   "cell_type": "code",
   "execution_count": 284,
   "id": "75165a08-2820-4b66-9ae5-fa77613008fc",
   "metadata": {},
   "outputs": [
    {
     "data": {
      "text/html": [
       "<div>\n",
       "<style scoped>\n",
       "    .dataframe tbody tr th:only-of-type {\n",
       "        vertical-align: middle;\n",
       "    }\n",
       "\n",
       "    .dataframe tbody tr th {\n",
       "        vertical-align: top;\n",
       "    }\n",
       "\n",
       "    .dataframe thead th {\n",
       "        text-align: right;\n",
       "    }\n",
       "</style>\n",
       "<table border=\"1\" class=\"dataframe\">\n",
       "  <thead>\n",
       "    <tr style=\"text-align: right;\">\n",
       "      <th></th>\n",
       "      <th>movieId</th>\n",
       "      <th>title</th>\n",
       "      <th>genres</th>\n",
       "    </tr>\n",
       "  </thead>\n",
       "  <tbody>\n",
       "    <tr>\n",
       "      <th>0</th>\n",
       "      <td>1</td>\n",
       "      <td>Toy Story (1995)</td>\n",
       "      <td>Adventure|Animation|Children|Comedy|Fantasy</td>\n",
       "    </tr>\n",
       "    <tr>\n",
       "      <th>1</th>\n",
       "      <td>2</td>\n",
       "      <td>Jumanji (1995)</td>\n",
       "      <td>Adventure|Children|Fantasy</td>\n",
       "    </tr>\n",
       "    <tr>\n",
       "      <th>2</th>\n",
       "      <td>3</td>\n",
       "      <td>Grumpier Old Men (1995)</td>\n",
       "      <td>Comedy|Romance</td>\n",
       "    </tr>\n",
       "    <tr>\n",
       "      <th>3</th>\n",
       "      <td>4</td>\n",
       "      <td>Waiting to Exhale (1995)</td>\n",
       "      <td>Comedy|Drama|Romance</td>\n",
       "    </tr>\n",
       "    <tr>\n",
       "      <th>4</th>\n",
       "      <td>5</td>\n",
       "      <td>Father of the Bride Part II (1995)</td>\n",
       "      <td>Comedy</td>\n",
       "    </tr>\n",
       "  </tbody>\n",
       "</table>\n",
       "</div>"
      ],
      "text/plain": [
       "   movieId                               title  \\\n",
       "0        1                    Toy Story (1995)   \n",
       "1        2                      Jumanji (1995)   \n",
       "2        3             Grumpier Old Men (1995)   \n",
       "3        4            Waiting to Exhale (1995)   \n",
       "4        5  Father of the Bride Part II (1995)   \n",
       "\n",
       "                                        genres  \n",
       "0  Adventure|Animation|Children|Comedy|Fantasy  \n",
       "1                   Adventure|Children|Fantasy  \n",
       "2                               Comedy|Romance  \n",
       "3                         Comedy|Drama|Romance  \n",
       "4                                       Comedy  "
      ]
     },
     "execution_count": 284,
     "metadata": {},
     "output_type": "execute_result"
    }
   ],
   "source": [
    "movies.head()"
   ]
  },
  {
   "cell_type": "markdown",
   "id": "2634a497-ae59-4800-bea3-2e3b6853eaea",
   "metadata": {},
   "source": [
    "## cleaning up genre by converting to list"
   ]
  },
  {
   "cell_type": "code",
   "execution_count": 285,
   "id": "72f684e9-3508-484a-8de9-618f9a957b4d",
   "metadata": {},
   "outputs": [
    {
     "data": {
      "text/html": [
       "<div>\n",
       "<style scoped>\n",
       "    .dataframe tbody tr th:only-of-type {\n",
       "        vertical-align: middle;\n",
       "    }\n",
       "\n",
       "    .dataframe tbody tr th {\n",
       "        vertical-align: top;\n",
       "    }\n",
       "\n",
       "    .dataframe thead th {\n",
       "        text-align: right;\n",
       "    }\n",
       "</style>\n",
       "<table border=\"1\" class=\"dataframe\">\n",
       "  <thead>\n",
       "    <tr style=\"text-align: right;\">\n",
       "      <th></th>\n",
       "      <th>movieId</th>\n",
       "      <th>title</th>\n",
       "      <th>genres</th>\n",
       "    </tr>\n",
       "  </thead>\n",
       "  <tbody>\n",
       "    <tr>\n",
       "      <th>0</th>\n",
       "      <td>1</td>\n",
       "      <td>Toy Story (1995)</td>\n",
       "      <td>[Adventure, Animation, Children, Comedy, Fantasy]</td>\n",
       "    </tr>\n",
       "    <tr>\n",
       "      <th>1</th>\n",
       "      <td>2</td>\n",
       "      <td>Jumanji (1995)</td>\n",
       "      <td>[Adventure, Children, Fantasy]</td>\n",
       "    </tr>\n",
       "    <tr>\n",
       "      <th>2</th>\n",
       "      <td>3</td>\n",
       "      <td>Grumpier Old Men (1995)</td>\n",
       "      <td>[Comedy, Romance]</td>\n",
       "    </tr>\n",
       "    <tr>\n",
       "      <th>3</th>\n",
       "      <td>4</td>\n",
       "      <td>Waiting to Exhale (1995)</td>\n",
       "      <td>[Comedy, Drama, Romance]</td>\n",
       "    </tr>\n",
       "    <tr>\n",
       "      <th>4</th>\n",
       "      <td>5</td>\n",
       "      <td>Father of the Bride Part II (1995)</td>\n",
       "      <td>[Comedy]</td>\n",
       "    </tr>\n",
       "  </tbody>\n",
       "</table>\n",
       "</div>"
      ],
      "text/plain": [
       "   movieId                               title  \\\n",
       "0        1                    Toy Story (1995)   \n",
       "1        2                      Jumanji (1995)   \n",
       "2        3             Grumpier Old Men (1995)   \n",
       "3        4            Waiting to Exhale (1995)   \n",
       "4        5  Father of the Bride Part II (1995)   \n",
       "\n",
       "                                              genres  \n",
       "0  [Adventure, Animation, Children, Comedy, Fantasy]  \n",
       "1                     [Adventure, Children, Fantasy]  \n",
       "2                                  [Comedy, Romance]  \n",
       "3                           [Comedy, Drama, Romance]  \n",
       "4                                           [Comedy]  "
      ]
     },
     "execution_count": 285,
     "metadata": {},
     "output_type": "execute_result"
    }
   ],
   "source": [
    "movies['genres'] = movies['genres'].apply(lambda x:x.split('|'))\n",
    "movies.head()"
   ]
  },
  {
   "cell_type": "code",
   "execution_count": 286,
   "id": "1e021b01-c584-436b-9867-e9b8adf2ca0c",
   "metadata": {},
   "outputs": [
    {
     "name": "stdout",
     "output_type": "stream",
     "text": [
      "There are 20 genres\n"
     ]
    },
    {
     "data": {
      "text/plain": [
       "Counter({'Drama': 4361,\n",
       "         'Comedy': 3756,\n",
       "         'Thriller': 1894,\n",
       "         'Action': 1828,\n",
       "         'Romance': 1596,\n",
       "         'Adventure': 1263,\n",
       "         'Crime': 1199,\n",
       "         'Sci-Fi': 980,\n",
       "         'Horror': 978,\n",
       "         'Fantasy': 779,\n",
       "         'Children': 664,\n",
       "         'Animation': 611,\n",
       "         'Mystery': 573,\n",
       "         'Documentary': 440,\n",
       "         'War': 382,\n",
       "         'Musical': 334,\n",
       "         'Western': 167,\n",
       "         'IMAX': 158,\n",
       "         'Film-Noir': 87,\n",
       "         '(no genres listed)': 34})"
      ]
     },
     "execution_count": 286,
     "metadata": {},
     "output_type": "execute_result"
    }
   ],
   "source": [
    "from collections import Counter\n",
    "genre_freq = Counter(g for genres in movies['genres'] for g in genres)\n",
    "print(f'There are {len(genre_freq)} genres')\n",
    "\n",
    "genre_freq"
   ]
  },
  {
   "cell_type": "code",
   "execution_count": 287,
   "id": "89031af9-3d7f-43fe-b718-99591c09e1c2",
   "metadata": {},
   "outputs": [
    {
     "name": "stdout",
     "output_type": "stream",
     "text": [
      "Most popular genres: [('Drama', 4361), ('Comedy', 3756), ('Thriller', 1894), ('Action', 1828), ('Romance', 1596)]\n"
     ]
    }
   ],
   "source": [
    "print(f'Most popular genres: {genre_freq.most_common(5)}')"
   ]
  },
  {
   "cell_type": "code",
   "execution_count": 288,
   "id": "2dcdad8f-af13-44ca-ac05-d7f28eb613de",
   "metadata": {},
   "outputs": [
    {
     "data": {
      "text/plain": [
       "([0, 1, 2, 3, 4, 5, 6, 7, 8, 9, 10, 11, 12, 13, 14, 15, 16, 17, 18, 19],\n",
       " [Text(0, 0, 'Drama'),\n",
       "  Text(1, 0, 'Comedy'),\n",
       "  Text(2, 0, 'Thriller'),\n",
       "  Text(3, 0, 'Action'),\n",
       "  Text(4, 0, 'Romance'),\n",
       "  Text(5, 0, 'Adventure'),\n",
       "  Text(6, 0, 'Crime'),\n",
       "  Text(7, 0, 'Sci-Fi'),\n",
       "  Text(8, 0, 'Horror'),\n",
       "  Text(9, 0, 'Fantasy'),\n",
       "  Text(10, 0, 'Children'),\n",
       "  Text(11, 0, 'Animation'),\n",
       "  Text(12, 0, 'Mystery'),\n",
       "  Text(13, 0, 'Documentary'),\n",
       "  Text(14, 0, 'War'),\n",
       "  Text(15, 0, 'Musical'),\n",
       "  Text(16, 0, 'Western'),\n",
       "  Text(17, 0, 'IMAX'),\n",
       "  Text(18, 0, 'Film-Noir'),\n",
       "  Text(19, 0, '(no genres listed)')])"
      ]
     },
     "execution_count": 288,
     "metadata": {},
     "output_type": "execute_result"
    },
    {
     "data": {
      "image/png": "[encoded data removed]",
      "text/plain": [
       "<Figure size 640x480 with 1 Axes>"
      ]
     },
     "metadata": {},
     "output_type": "display_data"
    }
   ],
   "source": [
    "genre_freq_df = pd.DataFrame([genre_freq]).T.reset_index()\n",
    "genre_freq_df.columns = ['genre','count']\n",
    "\n",
    "sns.barplot(x='genre', y='count', data=genre_freq_df.sort_values(by='count', ascending=False))\n",
    "plt.xticks(rotation=90)"
   ]
  },
  {
   "cell_type": "markdown",
   "id": "a12f2fb2-09cc-49a9-8623-f406c2a6cf0f",
   "metadata": {},
   "source": [
    "## Data preprocessing"
   ]
  },
  {
   "cell_type": "code",
   "execution_count": 289,
   "id": "bfbf8afb-6fb7-4b81-8f9b-24bab80174ea",
   "metadata": {},
   "outputs": [],
   "source": [
    "'''\n",
    "create_X function outputs a sparse matrix X with 4 mapper dictionaries:\n",
    "1. user_mapper: maps userid to user index\n",
    "2. movie_mapper: maps movie id to movie index\n",
    "3. user_inv_mapper: maps user index to user id\n",
    "4. movie_inv_mapper: maps movie index to movie id\n",
    "these dictionaries map which row/column of the matrix corresponds to which user/movie id\n",
    "'''\n",
    "\n",
    "from scipy.sparse import csr_matrix\n",
    "\n",
    "def create_X(df):\n",
    "    M = df['userId'].nunique()\n",
    "    N = df['movieId'].nunique()\n",
    "\n",
    "    user_mapper = dict(zip(np.unique(df['userId']),list(range(M))))\n",
    "    movie_mapper = dict(zip(np.unique(df['movieId']),list(range(N))))\n",
    "\n",
    "    user_inv_mapper = dict(zip(list(range(M)),np.unique(df['userId'])))\n",
    "    movie_inv_mapper = dict(zip(list(range(N)),np.unique(df['movieId'])))\n",
    "\n",
    "    user_index = [user_mapper[i] for i in df['userId']]\n",
    "    item_index = [movie_mapper[i] for i in df['movieId']]\n",
    "\n",
    "    X = csr_matrix((df[\"rating\"], (user_index, item_index)), shape=(M,N))\n",
    "    return X, user_mapper, movie_mapper, user_inv_mapper, movie_inv_mapper\n",
    "\n",
    "X, user_mapper, movie_mapper, user_inv_mapper, movie_inv_mapper = create_X(ratings)\n",
    "\n",
    "# csr matrix - sparse matrix in scipy"
   ]
  },
  {
   "cell_type": "code",
   "execution_count": 290,
   "id": "ec09a9ad-c185-491b-b169-35763d15d632",
   "metadata": {},
   "outputs": [
    {
     "data": {
      "text/plain": [
       "(610, 9724)"
      ]
     },
     "execution_count": 290,
     "metadata": {},
     "output_type": "execute_result"
    }
   ],
   "source": [
    "X.shape\n",
    "#there are empty cells, but it is space efficient"
   ]
  },
  {
   "cell_type": "code",
   "execution_count": 291,
   "id": "2baa52e4-9b45-4497-b31a-27fc7d647dd4",
   "metadata": {},
   "outputs": [
    {
     "data": {
      "text/plain": [
       "{1: 0,\n",
       " 2: 1,\n",
       " 3: 2,\n",
       " 4: 3,\n",
       " 5: 4,\n",
       " 6: 5,\n",
       " 7: 6,\n",
       " 8: 7,\n",
       " 9: 8,\n",
       " 10: 9,\n",
       " 11: 10,\n",
       " 12: 11,\n",
       " 13: 12,\n",
       " 14: 13,\n",
       " 15: 14,\n",
       " 16: 15,\n",
       " 17: 16,\n",
       " 18: 17,\n",
       " 19: 18,\n",
       " 20: 19,\n",
       " 21: 20,\n",
       " 22: 21,\n",
       " 23: 22,\n",
       " 24: 23,\n",
       " 25: 24,\n",
       " 26: 25,\n",
       " 27: 26,\n",
       " 28: 27,\n",
       " 29: 28,\n",
       " 30: 29,\n",
       " 31: 30,\n",
       " 32: 31,\n",
       " 33: 32,\n",
       " 34: 33,\n",
       " 35: 34,\n",
       " 36: 35,\n",
       " 37: 36,\n",
       " 38: 37,\n",
       " 39: 38,\n",
       " 40: 39,\n",
       " 41: 40,\n",
       " 42: 41,\n",
       " 43: 42,\n",
       " 44: 43,\n",
       " 45: 44,\n",
       " 46: 45,\n",
       " 47: 46,\n",
       " 48: 47,\n",
       " 49: 48,\n",
       " 50: 49,\n",
       " 51: 50,\n",
       " 52: 51,\n",
       " 53: 52,\n",
       " 54: 53,\n",
       " 55: 54,\n",
       " 56: 55,\n",
       " 57: 56,\n",
       " 58: 57,\n",
       " 59: 58,\n",
       " 60: 59,\n",
       " 61: 60,\n",
       " 62: 61,\n",
       " 63: 62,\n",
       " 64: 63,\n",
       " 65: 64,\n",
       " 66: 65,\n",
       " 67: 66,\n",
       " 68: 67,\n",
       " 69: 68,\n",
       " 70: 69,\n",
       " 71: 70,\n",
       " 72: 71,\n",
       " 73: 72,\n",
       " 74: 73,\n",
       " 75: 74,\n",
       " 76: 75,\n",
       " 77: 76,\n",
       " 78: 77,\n",
       " 79: 78,\n",
       " 80: 79,\n",
       " 81: 80,\n",
       " 82: 81,\n",
       " 83: 82,\n",
       " 84: 83,\n",
       " 85: 84,\n",
       " 86: 85,\n",
       " 87: 86,\n",
       " 88: 87,\n",
       " 89: 88,\n",
       " 90: 89,\n",
       " 91: 90,\n",
       " 92: 91,\n",
       " 93: 92,\n",
       " 94: 93,\n",
       " 95: 94,\n",
       " 96: 95,\n",
       " 97: 96,\n",
       " 98: 97,\n",
       " 99: 98,\n",
       " 100: 99,\n",
       " 101: 100,\n",
       " 102: 101,\n",
       " 103: 102,\n",
       " 104: 103,\n",
       " 105: 104,\n",
       " 106: 105,\n",
       " 107: 106,\n",
       " 108: 107,\n",
       " 109: 108,\n",
       " 110: 109,\n",
       " 111: 110,\n",
       " 112: 111,\n",
       " 113: 112,\n",
       " 114: 113,\n",
       " 115: 114,\n",
       " 116: 115,\n",
       " 117: 116,\n",
       " 118: 117,\n",
       " 119: 118,\n",
       " 120: 119,\n",
       " 121: 120,\n",
       " 122: 121,\n",
       " 123: 122,\n",
       " 124: 123,\n",
       " 125: 124,\n",
       " 126: 125,\n",
       " 127: 126,\n",
       " 128: 127,\n",
       " 129: 128,\n",
       " 130: 129,\n",
       " 131: 130,\n",
       " 132: 131,\n",
       " 133: 132,\n",
       " 134: 133,\n",
       " 135: 134,\n",
       " 136: 135,\n",
       " 137: 136,\n",
       " 138: 137,\n",
       " 139: 138,\n",
       " 140: 139,\n",
       " 141: 140,\n",
       " 142: 141,\n",
       " 143: 142,\n",
       " 144: 143,\n",
       " 145: 144,\n",
       " 146: 145,\n",
       " 147: 146,\n",
       " 148: 147,\n",
       " 149: 148,\n",
       " 150: 149,\n",
       " 151: 150,\n",
       " 152: 151,\n",
       " 153: 152,\n",
       " 154: 153,\n",
       " 155: 154,\n",
       " 156: 155,\n",
       " 157: 156,\n",
       " 158: 157,\n",
       " 159: 158,\n",
       " 160: 159,\n",
       " 161: 160,\n",
       " 162: 161,\n",
       " 163: 162,\n",
       " 164: 163,\n",
       " 165: 164,\n",
       " 166: 165,\n",
       " 167: 166,\n",
       " 168: 167,\n",
       " 169: 168,\n",
       " 170: 169,\n",
       " 171: 170,\n",
       " 172: 171,\n",
       " 173: 172,\n",
       " 174: 173,\n",
       " 175: 174,\n",
       " 176: 175,\n",
       " 177: 176,\n",
       " 178: 177,\n",
       " 179: 178,\n",
       " 180: 179,\n",
       " 181: 180,\n",
       " 182: 181,\n",
       " 183: 182,\n",
       " 184: 183,\n",
       " 185: 184,\n",
       " 186: 185,\n",
       " 187: 186,\n",
       " 188: 187,\n",
       " 189: 188,\n",
       " 190: 189,\n",
       " 191: 190,\n",
       " 192: 191,\n",
       " 193: 192,\n",
       " 194: 193,\n",
       " 195: 194,\n",
       " 196: 195,\n",
       " 197: 196,\n",
       " 198: 197,\n",
       " 199: 198,\n",
       " 200: 199,\n",
       " 201: 200,\n",
       " 202: 201,\n",
       " 203: 202,\n",
       " 204: 203,\n",
       " 205: 204,\n",
       " 206: 205,\n",
       " 207: 206,\n",
       " 208: 207,\n",
       " 209: 208,\n",
       " 210: 209,\n",
       " 211: 210,\n",
       " 212: 211,\n",
       " 213: 212,\n",
       " 214: 213,\n",
       " 215: 214,\n",
       " 216: 215,\n",
       " 217: 216,\n",
       " 218: 217,\n",
       " 219: 218,\n",
       " 220: 219,\n",
       " 221: 220,\n",
       " 222: 221,\n",
       " 223: 222,\n",
       " 224: 223,\n",
       " 225: 224,\n",
       " 226: 225,\n",
       " 227: 226,\n",
       " 228: 227,\n",
       " 229: 228,\n",
       " 230: 229,\n",
       " 231: 230,\n",
       " 232: 231,\n",
       " 233: 232,\n",
       " 234: 233,\n",
       " 235: 234,\n",
       " 236: 235,\n",
       " 237: 236,\n",
       " 238: 237,\n",
       " 239: 238,\n",
       " 240: 239,\n",
       " 241: 240,\n",
       " 242: 241,\n",
       " 243: 242,\n",
       " 244: 243,\n",
       " 245: 244,\n",
       " 246: 245,\n",
       " 247: 246,\n",
       " 248: 247,\n",
       " 249: 248,\n",
       " 250: 249,\n",
       " 251: 250,\n",
       " 252: 251,\n",
       " 253: 252,\n",
       " 254: 253,\n",
       " 255: 254,\n",
       " 256: 255,\n",
       " 257: 256,\n",
       " 258: 257,\n",
       " 259: 258,\n",
       " 260: 259,\n",
       " 261: 260,\n",
       " 262: 261,\n",
       " 263: 262,\n",
       " 264: 263,\n",
       " 265: 264,\n",
       " 266: 265,\n",
       " 267: 266,\n",
       " 268: 267,\n",
       " 269: 268,\n",
       " 270: 269,\n",
       " 271: 270,\n",
       " 272: 271,\n",
       " 273: 272,\n",
       " 274: 273,\n",
       " 275: 274,\n",
       " 276: 275,\n",
       " 277: 276,\n",
       " 278: 277,\n",
       " 279: 278,\n",
       " 280: 279,\n",
       " 281: 280,\n",
       " 282: 281,\n",
       " 283: 282,\n",
       " 284: 283,\n",
       " 285: 284,\n",
       " 286: 285,\n",
       " 287: 286,\n",
       " 288: 287,\n",
       " 289: 288,\n",
       " 290: 289,\n",
       " 291: 290,\n",
       " 292: 291,\n",
       " 293: 292,\n",
       " 294: 293,\n",
       " 295: 294,\n",
       " 296: 295,\n",
       " 297: 296,\n",
       " 298: 297,\n",
       " 299: 298,\n",
       " 300: 299,\n",
       " 301: 300,\n",
       " 302: 301,\n",
       " 303: 302,\n",
       " 304: 303,\n",
       " 305: 304,\n",
       " 306: 305,\n",
       " 307: 306,\n",
       " 308: 307,\n",
       " 309: 308,\n",
       " 310: 309,\n",
       " 311: 310,\n",
       " 312: 311,\n",
       " 313: 312,\n",
       " 314: 313,\n",
       " 315: 314,\n",
       " 316: 315,\n",
       " 317: 316,\n",
       " 318: 317,\n",
       " 319: 318,\n",
       " 320: 319,\n",
       " 321: 320,\n",
       " 322: 321,\n",
       " 323: 322,\n",
       " 324: 323,\n",
       " 325: 324,\n",
       " 326: 325,\n",
       " 327: 326,\n",
       " 328: 327,\n",
       " 329: 328,\n",
       " 330: 329,\n",
       " 331: 330,\n",
       " 332: 331,\n",
       " 333: 332,\n",
       " 334: 333,\n",
       " 335: 334,\n",
       " 336: 335,\n",
       " 337: 336,\n",
       " 338: 337,\n",
       " 339: 338,\n",
       " 340: 339,\n",
       " 341: 340,\n",
       " 342: 341,\n",
       " 343: 342,\n",
       " 344: 343,\n",
       " 345: 344,\n",
       " 346: 345,\n",
       " 347: 346,\n",
       " 348: 347,\n",
       " 349: 348,\n",
       " 350: 349,\n",
       " 351: 350,\n",
       " 352: 351,\n",
       " 353: 352,\n",
       " 354: 353,\n",
       " 355: 354,\n",
       " 356: 355,\n",
       " 357: 356,\n",
       " 358: 357,\n",
       " 359: 358,\n",
       " 360: 359,\n",
       " 361: 360,\n",
       " 362: 361,\n",
       " 363: 362,\n",
       " 364: 363,\n",
       " 365: 364,\n",
       " 366: 365,\n",
       " 367: 366,\n",
       " 368: 367,\n",
       " 369: 368,\n",
       " 370: 369,\n",
       " 371: 370,\n",
       " 372: 371,\n",
       " 373: 372,\n",
       " 374: 373,\n",
       " 375: 374,\n",
       " 376: 375,\n",
       " 377: 376,\n",
       " 378: 377,\n",
       " 379: 378,\n",
       " 380: 379,\n",
       " 381: 380,\n",
       " 382: 381,\n",
       " 383: 382,\n",
       " 384: 383,\n",
       " 385: 384,\n",
       " 386: 385,\n",
       " 387: 386,\n",
       " 388: 387,\n",
       " 389: 388,\n",
       " 390: 389,\n",
       " 391: 390,\n",
       " 392: 391,\n",
       " 393: 392,\n",
       " 394: 393,\n",
       " 395: 394,\n",
       " 396: 395,\n",
       " 397: 396,\n",
       " 398: 397,\n",
       " 399: 398,\n",
       " 400: 399,\n",
       " 401: 400,\n",
       " 402: 401,\n",
       " 403: 402,\n",
       " 404: 403,\n",
       " 405: 404,\n",
       " 406: 405,\n",
       " 407: 406,\n",
       " 408: 407,\n",
       " 409: 408,\n",
       " 410: 409,\n",
       " 411: 410,\n",
       " 412: 411,\n",
       " 413: 412,\n",
       " 414: 413,\n",
       " 415: 414,\n",
       " 416: 415,\n",
       " 417: 416,\n",
       " 418: 417,\n",
       " 419: 418,\n",
       " 420: 419,\n",
       " 421: 420,\n",
       " 422: 421,\n",
       " 423: 422,\n",
       " 424: 423,\n",
       " 425: 424,\n",
       " 426: 425,\n",
       " 427: 426,\n",
       " 428: 427,\n",
       " 429: 428,\n",
       " 430: 429,\n",
       " 431: 430,\n",
       " 432: 431,\n",
       " 433: 432,\n",
       " 434: 433,\n",
       " 435: 434,\n",
       " 436: 435,\n",
       " 437: 436,\n",
       " 438: 437,\n",
       " 439: 438,\n",
       " 440: 439,\n",
       " 441: 440,\n",
       " 442: 441,\n",
       " 443: 442,\n",
       " 444: 443,\n",
       " 445: 444,\n",
       " 446: 445,\n",
       " 447: 446,\n",
       " 448: 447,\n",
       " 449: 448,\n",
       " 450: 449,\n",
       " 451: 450,\n",
       " 452: 451,\n",
       " 453: 452,\n",
       " 454: 453,\n",
       " 455: 454,\n",
       " 456: 455,\n",
       " 457: 456,\n",
       " 458: 457,\n",
       " 459: 458,\n",
       " 460: 459,\n",
       " 461: 460,\n",
       " 462: 461,\n",
       " 463: 462,\n",
       " 464: 463,\n",
       " 465: 464,\n",
       " 466: 465,\n",
       " 467: 466,\n",
       " 468: 467,\n",
       " 469: 468,\n",
       " 470: 469,\n",
       " 471: 470,\n",
       " 472: 471,\n",
       " 473: 472,\n",
       " 474: 473,\n",
       " 475: 474,\n",
       " 476: 475,\n",
       " 477: 476,\n",
       " 478: 477,\n",
       " 479: 478,\n",
       " 480: 479,\n",
       " 481: 480,\n",
       " 482: 481,\n",
       " 483: 482,\n",
       " 484: 483,\n",
       " 485: 484,\n",
       " 486: 485,\n",
       " 487: 486,\n",
       " 488: 487,\n",
       " 489: 488,\n",
       " 490: 489,\n",
       " 491: 490,\n",
       " 492: 491,\n",
       " 493: 492,\n",
       " 494: 493,\n",
       " 495: 494,\n",
       " 496: 495,\n",
       " 497: 496,\n",
       " 498: 497,\n",
       " 499: 498,\n",
       " 500: 499,\n",
       " 501: 500,\n",
       " 502: 501,\n",
       " 503: 502,\n",
       " 504: 503,\n",
       " 505: 504,\n",
       " 506: 505,\n",
       " 507: 506,\n",
       " 508: 507,\n",
       " 509: 508,\n",
       " 510: 509,\n",
       " 511: 510,\n",
       " 512: 511,\n",
       " 513: 512,\n",
       " 514: 513,\n",
       " 515: 514,\n",
       " 516: 515,\n",
       " 517: 516,\n",
       " 518: 517,\n",
       " 519: 518,\n",
       " 520: 519,\n",
       " 521: 520,\n",
       " 522: 521,\n",
       " 523: 522,\n",
       " 524: 523,\n",
       " 525: 524,\n",
       " 526: 525,\n",
       " 527: 526,\n",
       " 528: 527,\n",
       " 529: 528,\n",
       " 530: 529,\n",
       " 531: 530,\n",
       " 532: 531,\n",
       " 533: 532,\n",
       " 534: 533,\n",
       " 535: 534,\n",
       " 536: 535,\n",
       " 537: 536,\n",
       " 538: 537,\n",
       " 539: 538,\n",
       " 540: 539,\n",
       " 541: 540,\n",
       " 542: 541,\n",
       " 543: 542,\n",
       " 544: 543,\n",
       " 545: 544,\n",
       " 546: 545,\n",
       " 547: 546,\n",
       " 548: 547,\n",
       " 549: 548,\n",
       " 550: 549,\n",
       " 551: 550,\n",
       " 552: 551,\n",
       " 553: 552,\n",
       " 554: 553,\n",
       " 555: 554,\n",
       " 556: 555,\n",
       " 557: 556,\n",
       " 558: 557,\n",
       " 559: 558,\n",
       " 560: 559,\n",
       " 561: 560,\n",
       " 562: 561,\n",
       " 563: 562,\n",
       " 564: 563,\n",
       " 565: 564,\n",
       " 566: 565,\n",
       " 567: 566,\n",
       " 568: 567,\n",
       " 569: 568,\n",
       " 570: 569,\n",
       " 571: 570,\n",
       " 572: 571,\n",
       " 573: 572,\n",
       " 574: 573,\n",
       " 575: 574,\n",
       " 576: 575,\n",
       " 577: 576,\n",
       " 578: 577,\n",
       " 579: 578,\n",
       " 580: 579,\n",
       " 581: 580,\n",
       " 582: 581,\n",
       " 583: 582,\n",
       " 584: 583,\n",
       " 585: 584,\n",
       " 586: 585,\n",
       " 587: 586,\n",
       " 588: 587,\n",
       " 589: 588,\n",
       " 590: 589,\n",
       " 591: 590,\n",
       " 592: 591,\n",
       " 593: 592,\n",
       " 594: 593,\n",
       " 595: 594,\n",
       " 596: 595,\n",
       " 597: 596,\n",
       " 598: 597,\n",
       " 599: 598,\n",
       " 600: 599,\n",
       " 601: 600,\n",
       " 602: 601,\n",
       " 603: 602,\n",
       " 604: 603,\n",
       " 605: 604,\n",
       " 606: 605,\n",
       " 607: 606,\n",
       " 608: 607,\n",
       " 609: 608,\n",
       " 610: 609}"
      ]
     },
     "execution_count": 291,
     "metadata": {},
     "output_type": "execute_result"
    }
   ],
   "source": [
    "user_mapper"
   ]
  },
  {
   "cell_type": "markdown",
   "id": "0f49a191-7af9-4d19-9cc2-554d527f280c",
   "metadata": {},
   "source": [
    "## Evaluating sparsity"
   ]
  },
  {
   "cell_type": "markdown",
   "id": "fc6cba38-6720-4962-be72-cca85176ef80",
   "metadata": {},
   "source": [
    "Determine whether collaborative filtering is suitable. Too sparse = content base filtering is likely better."
   ]
  },
  {
   "cell_type": "code",
   "execution_count": 292,
   "id": "2d601f25-feb3-4791-9673-efae27eb5539",
   "metadata": {},
   "outputs": [
    {
     "name": "stdout",
     "output_type": "stream",
     "text": [
      "Matrix sparsity: 1.7%\n"
     ]
    }
   ],
   "source": [
    "n_total = X.shape[0] * X.shape[1]\n",
    "n_ratings = X.nnz #count of how many non empty elements in matrix. counts stored values \n",
    "\n",
    "sparsity = n_ratings/n_total\n",
    "print(f'Matrix sparsity: {round(sparsity*100,2)}%')\n",
    "# On average: a sparsity of .1% is good to go for collaborative filtering. otherwise, use content based filtering"
   ]
  },
  {
   "cell_type": "markdown",
   "id": "5e752fa2-b418-4b89-a40f-d3ee6798ac69",
   "metadata": {},
   "source": [
    "## Evaluating Cold Start"
   ]
  },
  {
   "cell_type": "markdown",
   "id": "1921a6bb-3356-4494-8fd9-2be58a928b67",
   "metadata": {},
   "source": [
    "Cold start problems: new users in the matrices that do not have any ratings.  ** This will be vital later on for my project later :) \n",
    "In this dataset, there are no empty terms as we can see below."
   ]
  },
  {
   "cell_type": "code",
   "execution_count": 293,
   "id": "c6441fae-fe2d-4668-a653-961eb3ab70dd",
   "metadata": {},
   "outputs": [
    {
     "name": "stdout",
     "output_type": "stream",
     "text": [
      "The most active user rated 2698 movies.\n",
      "The least active user rated 20 movies.\n"
     ]
    }
   ],
   "source": [
    "n_ratings_per_user = X.getnnz(axis=1) # number of non zero terms in sparse matrix\n",
    "len(n_ratings_per_user) # expected: 610 determined by shape above\n",
    "\n",
    "most_active_user = n_ratings_per_user.max()\n",
    "print(f'The most active user rated {most_active_user} movies.')\n",
    "\n",
    "least_active_user = n_ratings_per_user.min()\n",
    "print(f'The least active user rated {least_active_user} movies.')"
   ]
  },
  {
   "cell_type": "code",
   "execution_count": 294,
   "id": "56f93863-2005-4512-8ae8-5523859a7c1b",
   "metadata": {},
   "outputs": [
    {
     "name": "stdout",
     "output_type": "stream",
     "text": [
      "The most actively rated movie is 329.\n",
      "The least actively rated movied is 1.\n"
     ]
    }
   ],
   "source": [
    "n_ratings_per_movie = X.getnnz(axis=0)\n",
    "len(n_ratings_per_movie)\n",
    "\n",
    "most_active_movie = n_ratings_per_movie.max()\n",
    "print(f'The most actively rated movie is {most_active_movie}.')\n",
    "\n",
    "least_active_movie = n_ratings_per_movie.min()\n",
    "print(f'The least actively rated movied is {least_active_movie}.')"
   ]
  },
  {
   "cell_type": "markdown",
   "id": "123c9f5e-71c4-46f6-983f-1a50cb228ffe",
   "metadata": {},
   "source": [
    "## Plotting the sparsity"
   ]
  },
  {
   "cell_type": "code",
   "execution_count": 295,
   "id": "5ce46e7e-dadd-4034-9cc8-8862598f7e00",
   "metadata": {},
   "outputs": [
    {
     "data": {
      "text/plain": [
       "Text(0, 0.5, 'density')"
      ]
     },
     "execution_count": 295,
     "metadata": {},
     "output_type": "execute_result"
    },
    {
     "data": {
      "image/png": "[encoded data removed]",
      "text/plain": [
       "<Figure size 1600x400 with 2 Axes>"
      ]
     },
     "metadata": {},
     "output_type": "display_data"
    }
   ],
   "source": [
    "plt.figure(figsize=(16,4))\n",
    "#by default, matplotlib will fit your data to hold the plot, however fitting it manually will give you control over your data set\n",
    "\n",
    "#subplot 1 \n",
    "plt.subplot(1,2,1) #subplot(n_rows,n_columns, index)\n",
    "sns.kdeplot(n_ratings_per_user, fill=True)\n",
    "plt.xlim(0)\n",
    "plt.title(\"Number of ratings per user\", fontsize=14)\n",
    "plt.xlabel(\"ratings per user\")\n",
    "plt.ylabel(\"density\")\n",
    "\n",
    "#subplot 2\n",
    "plt.subplot(1,2,2)\n",
    "sns.kdeplot(n_ratings_per_movie, fill=True)\n",
    "plt.xlim(0)\n",
    "plt.title(\"Number of ratings per movie\", fontsize=14)\n",
    "plt.xlabel(\"ratings per movie\")\n",
    "plt.ylabel(\"density\")"
   ]
  },
  {
   "cell_type": "markdown",
   "id": "8f4632e4-6c9e-4fa6-bd57-c8cca0ec40f5",
   "metadata": {},
   "source": [
    "## K-nearest neighbours"
   ]
  },
  {
   "cell_type": "markdown",
   "id": "328374cb-e0fd-4100-adbb-49758f14f9fa",
   "metadata": {},
   "source": [
    "Now that we have ensured that our dataset is sparse enough to do collaborative filtering, we will build our k-nearest neighbours model.\n",
    "So, we will find the k movies that have the most similar user engagement vectors for movie i."
   ]
  },
  {
   "cell_type": "code",
   "execution_count": 296,
   "id": "8211b414-fd81-49c9-b2f7-44d5d94329ec",
   "metadata": {},
   "outputs": [],
   "source": [
    "from sklearn.neighbors import NearestNeighbors\n",
    "\n",
    "def find_similar_movies(movie_id, X, movie_mapper, movie_inv_mapper,k, metric=\"cosine\"):\n",
    "    '''\n",
    "    K-nearest algorithm: k-nearest neighbours given a movie id.\n",
    "\n",
    "    Args:\n",
    "        movie_id: id of movie of interest\n",
    "        X: user-item utility matrix\n",
    "        k: number of similar movies to retrieve\n",
    "        metric: distance for kNN calculations, focusing on cosine similarity\n",
    "\n",
    "    Outputs:\n",
    "        list of k similar movie-ids\n",
    "    '''\n",
    "    X = X.T\n",
    "    neighbour_ids=[]\n",
    "    movie_ind = movie_mapper[movie_id]\n",
    "    movie_vec = X[movie_ind]\n",
    "\n",
    "    if isinstance(movie_vec, (np.ndarray)):\n",
    "        movie_vec = movie_vec.reshape(1, -1) \n",
    "    # use k+t as kNN output includes movieId of interest\n",
    "    kNN = NearestNeighbors(n_neighbors=k+1, algorithm=\"brute\", metric=metric)\n",
    "    kNN.fit(X)\n",
    "    neighbour = kNN.kneighbors(movie_vec, return_distance=False)\n",
    "    for i in range(0,k):\n",
    "        n = neighbour.item(i)\n",
    "        neighbour_ids.append(movie_inv_mapper[n])\n",
    "    neighbour_ids.pop(0)\n",
    "    return neighbour_ids"
   ]
  },
  {
   "cell_type": "code",
   "execution_count": 297,
   "id": "147379ab-6c43-4270-9d25-c46e5fcec565",
   "metadata": {},
   "outputs": [],
   "source": [
    "# similar_movies = find_similar_movies(1,X,movie_mapper,movie_inv_mapper,k=10)\n",
    "# similar_movies"
   ]
  },
  {
   "cell_type": "code",
   "execution_count": 298,
   "id": "7d4c888a-a933-4377-9157-e00d7fb9835c",
   "metadata": {},
   "outputs": [
    {
     "name": "stdout",
     "output_type": "stream",
     "text": [
      "Since you watched Toy Story (1995), we recommend:\n",
      "Toy Story 2 (1999)\n",
      "Jurassic Park (1993)\n",
      "Independence Day (a.k.a. ID4) (1996)\n",
      "Star Wars: Episode IV - A New Hope (1977)\n",
      "Forrest Gump (1994)\n",
      "Lion King, The (1994)\n",
      "Star Wars: Episode VI - Return of the Jedi (1983)\n",
      "Mission: Impossible (1996)\n",
      "Groundhog Day (1993)\n"
     ]
    }
   ],
   "source": [
    "movie_titles = dict(zip(movies['movieId'],movies['title']))\n",
    "movie_id = 1\n",
    "similar_movies = find_similar_movies(movie_id,X,movie_mapper,movie_inv_mapper,metric='cosine',k=10)\n",
    "movie_title = movie_titles[movie_id]\n",
    "print(f'Since you watched {movie_title}, we recommend:')\n",
    "for n in similar_movies:\n",
    "    print(movie_titles[n])\n",
    "    \n"
   ]
  },
  {
   "cell_type": "markdown",
   "id": "7ccb6e49-3c0d-4c00-8597-3ed8d7436677",
   "metadata": {},
   "source": [
    "## Cold start problem"
   ]
  },
  {
   "cell_type": "markdown",
   "id": "f224806e-0047-4e09-a472-82d5df685b9f",
   "metadata": {},
   "source": [
    "Using content-based filtering using genres. "
   ]
  },
  {
   "cell_type": "code",
   "execution_count": 299,
   "id": "cb22bcfe-f1d1-4db5-9372-104516dcfd7a",
   "metadata": {},
   "outputs": [
    {
     "name": "stdout",
     "output_type": "stream",
     "text": [
      "There are 9742 unique movies in our dataset.\n"
     ]
    }
   ],
   "source": [
    "n_movies = movies['movieId'].nunique()\n",
    "print(f'There are {n_movies} unique movies in our dataset.')"
   ]
  },
  {
   "cell_type": "code",
   "execution_count": 300,
   "id": "c5269df8-2de8-46f0-a7d1-9bdf527774f6",
   "metadata": {},
   "outputs": [
    {
     "data": {
      "text/html": [
       "<div>\n",
       "<style scoped>\n",
       "    .dataframe tbody tr th:only-of-type {\n",
       "        vertical-align: middle;\n",
       "    }\n",
       "\n",
       "    .dataframe tbody tr th {\n",
       "        vertical-align: top;\n",
       "    }\n",
       "\n",
       "    .dataframe thead th {\n",
       "        text-align: right;\n",
       "    }\n",
       "</style>\n",
       "<table border=\"1\" class=\"dataframe\">\n",
       "  <thead>\n",
       "    <tr style=\"text-align: right;\">\n",
       "      <th></th>\n",
       "      <th>Drama</th>\n",
       "      <th>Film-Noir</th>\n",
       "      <th>Western</th>\n",
       "      <th>Children</th>\n",
       "      <th>Adventure</th>\n",
       "      <th>Action</th>\n",
       "      <th>(no genres listed)</th>\n",
       "      <th>Animation</th>\n",
       "      <th>Mystery</th>\n",
       "      <th>Fantasy</th>\n",
       "      <th>Documentary</th>\n",
       "      <th>Thriller</th>\n",
       "      <th>Sci-Fi</th>\n",
       "      <th>Musical</th>\n",
       "      <th>Comedy</th>\n",
       "      <th>Crime</th>\n",
       "      <th>Horror</th>\n",
       "      <th>IMAX</th>\n",
       "      <th>War</th>\n",
       "      <th>Romance</th>\n",
       "    </tr>\n",
       "  </thead>\n",
       "  <tbody>\n",
       "    <tr>\n",
       "      <th>0</th>\n",
       "      <td>0</td>\n",
       "      <td>0</td>\n",
       "      <td>0</td>\n",
       "      <td>1</td>\n",
       "      <td>1</td>\n",
       "      <td>0</td>\n",
       "      <td>0</td>\n",
       "      <td>1</td>\n",
       "      <td>0</td>\n",
       "      <td>1</td>\n",
       "      <td>0</td>\n",
       "      <td>0</td>\n",
       "      <td>0</td>\n",
       "      <td>0</td>\n",
       "      <td>1</td>\n",
       "      <td>0</td>\n",
       "      <td>0</td>\n",
       "      <td>0</td>\n",
       "      <td>0</td>\n",
       "      <td>0</td>\n",
       "    </tr>\n",
       "    <tr>\n",
       "      <th>1</th>\n",
       "      <td>0</td>\n",
       "      <td>0</td>\n",
       "      <td>0</td>\n",
       "      <td>1</td>\n",
       "      <td>1</td>\n",
       "      <td>0</td>\n",
       "      <td>0</td>\n",
       "      <td>0</td>\n",
       "      <td>0</td>\n",
       "      <td>1</td>\n",
       "      <td>0</td>\n",
       "      <td>0</td>\n",
       "      <td>0</td>\n",
       "      <td>0</td>\n",
       "      <td>0</td>\n",
       "      <td>0</td>\n",
       "      <td>0</td>\n",
       "      <td>0</td>\n",
       "      <td>0</td>\n",
       "      <td>0</td>\n",
       "    </tr>\n",
       "    <tr>\n",
       "      <th>2</th>\n",
       "      <td>0</td>\n",
       "      <td>0</td>\n",
       "      <td>0</td>\n",
       "      <td>0</td>\n",
       "      <td>0</td>\n",
       "      <td>0</td>\n",
       "      <td>0</td>\n",
       "      <td>0</td>\n",
       "      <td>0</td>\n",
       "      <td>0</td>\n",
       "      <td>0</td>\n",
       "      <td>0</td>\n",
       "      <td>0</td>\n",
       "      <td>0</td>\n",
       "      <td>1</td>\n",
       "      <td>0</td>\n",
       "      <td>0</td>\n",
       "      <td>0</td>\n",
       "      <td>0</td>\n",
       "      <td>1</td>\n",
       "    </tr>\n",
       "    <tr>\n",
       "      <th>3</th>\n",
       "      <td>1</td>\n",
       "      <td>0</td>\n",
       "      <td>0</td>\n",
       "      <td>0</td>\n",
       "      <td>0</td>\n",
       "      <td>0</td>\n",
       "      <td>0</td>\n",
       "      <td>0</td>\n",
       "      <td>0</td>\n",
       "      <td>0</td>\n",
       "      <td>0</td>\n",
       "      <td>0</td>\n",
       "      <td>0</td>\n",
       "      <td>0</td>\n",
       "      <td>1</td>\n",
       "      <td>0</td>\n",
       "      <td>0</td>\n",
       "      <td>0</td>\n",
       "      <td>0</td>\n",
       "      <td>1</td>\n",
       "    </tr>\n",
       "    <tr>\n",
       "      <th>4</th>\n",
       "      <td>0</td>\n",
       "      <td>0</td>\n",
       "      <td>0</td>\n",
       "      <td>0</td>\n",
       "      <td>0</td>\n",
       "      <td>0</td>\n",
       "      <td>0</td>\n",
       "      <td>0</td>\n",
       "      <td>0</td>\n",
       "      <td>0</td>\n",
       "      <td>0</td>\n",
       "      <td>0</td>\n",
       "      <td>0</td>\n",
       "      <td>0</td>\n",
       "      <td>1</td>\n",
       "      <td>0</td>\n",
       "      <td>0</td>\n",
       "      <td>0</td>\n",
       "      <td>0</td>\n",
       "      <td>0</td>\n",
       "    </tr>\n",
       "    <tr>\n",
       "      <th>...</th>\n",
       "      <td>...</td>\n",
       "      <td>...</td>\n",
       "      <td>...</td>\n",
       "      <td>...</td>\n",
       "      <td>...</td>\n",
       "      <td>...</td>\n",
       "      <td>...</td>\n",
       "      <td>...</td>\n",
       "      <td>...</td>\n",
       "      <td>...</td>\n",
       "      <td>...</td>\n",
       "      <td>...</td>\n",
       "      <td>...</td>\n",
       "      <td>...</td>\n",
       "      <td>...</td>\n",
       "      <td>...</td>\n",
       "      <td>...</td>\n",
       "      <td>...</td>\n",
       "      <td>...</td>\n",
       "      <td>...</td>\n",
       "    </tr>\n",
       "    <tr>\n",
       "      <th>9737</th>\n",
       "      <td>0</td>\n",
       "      <td>0</td>\n",
       "      <td>0</td>\n",
       "      <td>0</td>\n",
       "      <td>0</td>\n",
       "      <td>1</td>\n",
       "      <td>0</td>\n",
       "      <td>1</td>\n",
       "      <td>0</td>\n",
       "      <td>1</td>\n",
       "      <td>0</td>\n",
       "      <td>0</td>\n",
       "      <td>0</td>\n",
       "      <td>0</td>\n",
       "      <td>1</td>\n",
       "      <td>0</td>\n",
       "      <td>0</td>\n",
       "      <td>0</td>\n",
       "      <td>0</td>\n",
       "      <td>0</td>\n",
       "    </tr>\n",
       "    <tr>\n",
       "      <th>9738</th>\n",
       "      <td>0</td>\n",
       "      <td>0</td>\n",
       "      <td>0</td>\n",
       "      <td>0</td>\n",
       "      <td>0</td>\n",
       "      <td>0</td>\n",
       "      <td>0</td>\n",
       "      <td>1</td>\n",
       "      <td>0</td>\n",
       "      <td>1</td>\n",
       "      <td>0</td>\n",
       "      <td>0</td>\n",
       "      <td>0</td>\n",
       "      <td>0</td>\n",
       "      <td>1</td>\n",
       "      <td>0</td>\n",
       "      <td>0</td>\n",
       "      <td>0</td>\n",
       "      <td>0</td>\n",
       "      <td>0</td>\n",
       "    </tr>\n",
       "    <tr>\n",
       "      <th>9739</th>\n",
       "      <td>1</td>\n",
       "      <td>0</td>\n",
       "      <td>0</td>\n",
       "      <td>0</td>\n",
       "      <td>0</td>\n",
       "      <td>0</td>\n",
       "      <td>0</td>\n",
       "      <td>0</td>\n",
       "      <td>0</td>\n",
       "      <td>0</td>\n",
       "      <td>0</td>\n",
       "      <td>0</td>\n",
       "      <td>0</td>\n",
       "      <td>0</td>\n",
       "      <td>0</td>\n",
       "      <td>0</td>\n",
       "      <td>0</td>\n",
       "      <td>0</td>\n",
       "      <td>0</td>\n",
       "      <td>0</td>\n",
       "    </tr>\n",
       "    <tr>\n",
       "      <th>9740</th>\n",
       "      <td>0</td>\n",
       "      <td>0</td>\n",
       "      <td>0</td>\n",
       "      <td>0</td>\n",
       "      <td>0</td>\n",
       "      <td>1</td>\n",
       "      <td>0</td>\n",
       "      <td>1</td>\n",
       "      <td>0</td>\n",
       "      <td>0</td>\n",
       "      <td>0</td>\n",
       "      <td>0</td>\n",
       "      <td>0</td>\n",
       "      <td>0</td>\n",
       "      <td>0</td>\n",
       "      <td>0</td>\n",
       "      <td>0</td>\n",
       "      <td>0</td>\n",
       "      <td>0</td>\n",
       "      <td>0</td>\n",
       "    </tr>\n",
       "    <tr>\n",
       "      <th>9741</th>\n",
       "      <td>0</td>\n",
       "      <td>0</td>\n",
       "      <td>0</td>\n",
       "      <td>0</td>\n",
       "      <td>0</td>\n",
       "      <td>0</td>\n",
       "      <td>0</td>\n",
       "      <td>0</td>\n",
       "      <td>0</td>\n",
       "      <td>0</td>\n",
       "      <td>0</td>\n",
       "      <td>0</td>\n",
       "      <td>0</td>\n",
       "      <td>0</td>\n",
       "      <td>1</td>\n",
       "      <td>0</td>\n",
       "      <td>0</td>\n",
       "      <td>0</td>\n",
       "      <td>0</td>\n",
       "      <td>0</td>\n",
       "    </tr>\n",
       "  </tbody>\n",
       "</table>\n",
       "<p>9742 rows × 20 columns</p>\n",
       "</div>"
      ],
      "text/plain": [
       "      Drama  Film-Noir  Western  Children  Adventure  Action  \\\n",
       "0         0          0        0         1          1       0   \n",
       "1         0          0        0         1          1       0   \n",
       "2         0          0        0         0          0       0   \n",
       "3         1          0        0         0          0       0   \n",
       "4         0          0        0         0          0       0   \n",
       "...     ...        ...      ...       ...        ...     ...   \n",
       "9737      0          0        0         0          0       1   \n",
       "9738      0          0        0         0          0       0   \n",
       "9739      1          0        0         0          0       0   \n",
       "9740      0          0        0         0          0       1   \n",
       "9741      0          0        0         0          0       0   \n",
       "\n",
       "      (no genres listed)  Animation  Mystery  Fantasy  Documentary  Thriller  \\\n",
       "0                      0          1        0        1            0         0   \n",
       "1                      0          0        0        1            0         0   \n",
       "2                      0          0        0        0            0         0   \n",
       "3                      0          0        0        0            0         0   \n",
       "4                      0          0        0        0            0         0   \n",
       "...                  ...        ...      ...      ...          ...       ...   \n",
       "9737                   0          1        0        1            0         0   \n",
       "9738                   0          1        0        1            0         0   \n",
       "9739                   0          0        0        0            0         0   \n",
       "9740                   0          1        0        0            0         0   \n",
       "9741                   0          0        0        0            0         0   \n",
       "\n",
       "      Sci-Fi  Musical  Comedy  Crime  Horror  IMAX  War  Romance  \n",
       "0          0        0       1      0       0     0    0        0  \n",
       "1          0        0       0      0       0     0    0        0  \n",
       "2          0        0       1      0       0     0    0        1  \n",
       "3          0        0       1      0       0     0    0        1  \n",
       "4          0        0       1      0       0     0    0        0  \n",
       "...      ...      ...     ...    ...     ...   ...  ...      ...  \n",
       "9737       0        0       1      0       0     0    0        0  \n",
       "9738       0        0       1      0       0     0    0        0  \n",
       "9739       0        0       0      0       0     0    0        0  \n",
       "9740       0        0       0      0       0     0    0        0  \n",
       "9741       0        0       1      0       0     0    0        0  \n",
       "\n",
       "[9742 rows x 20 columns]"
      ]
     },
     "execution_count": 300,
     "metadata": {},
     "output_type": "execute_result"
    }
   ],
   "source": [
    "genres = set(g for G in movies['genres'] for g in G) #creates a set of unique genres in the genre column\n",
    "\n",
    "for g in genres:\n",
    "    movies[g] = movies.genres.transform(lambda x:int(g in x))\n",
    "    #transform method is applied to genres column, checks if genre g is present in each entry x in the movies genre column\n",
    "movie_genres = movies.drop(columns=['movieId','title','genres'])\n",
    "movie_genres"
   ]
  },
  {
   "cell_type": "code",
   "execution_count": 301,
   "id": "236a86be-20e5-47f1-821f-24d5af5fec1e",
   "metadata": {},
   "outputs": [
    {
     "name": "stdout",
     "output_type": "stream",
     "text": [
      "Dimensions of our genres cosine similarity matrix: (9742, 9742)\n"
     ]
    }
   ],
   "source": [
    "from sklearn.metrics.pairwise import cosine_similarity\n",
    "\n",
    "cosine_sim = cosine_similarity(movie_genres, movie_genres)\n",
    "print(f'Dimensions of our genres cosine similarity matrix: {cosine_sim.shape}')"
   ]
  },
  {
   "cell_type": "code",
   "execution_count": 302,
   "id": "f58b5572-f5f4-417f-8553-b54a64516192",
   "metadata": {},
   "outputs": [
    {
     "data": {
      "text/plain": [
       "array([1.        , 0.77459667, 0.31622777, ..., 0.        , 0.31622777,\n",
       "       0.4472136 ])"
      ]
     },
     "execution_count": 302,
     "metadata": {},
     "output_type": "execute_result"
    }
   ],
   "source": [
    "cosine_sim[0] #1 means very similar, 0 means not similar at all"
   ]
  },
  {
   "cell_type": "markdown",
   "id": "cb6ca62a-08e3-4f83-94a4-da3e4b259e5d",
   "metadata": {},
   "source": [
    "## Creating a movie finder function"
   ]
  },
  {
   "cell_type": "code",
   "execution_count": 303,
   "id": "47160bf6-3f75-4af6-bad5-c4ba0b535234",
   "metadata": {},
   "outputs": [],
   "source": [
    "from fuzzywuzzy import process # takes in title you give it, finds most similar title in our dataset\n",
    "\n",
    "def movie_finder(title):\n",
    "    all_titles = movies['title'].tolist() #get all titles of the movies\n",
    "    closest_match = process.extractOne(title, all_titles) #fuzzy wuzzy process extract one- we pass in title and compare it with all titles, returns closest match\n",
    "    return closest_match[0]\n",
    "\n",
    "# test\n",
    "# title = movie_finder(\"jumanji\")\n",
    "# title"
   ]
  },
  {
   "cell_type": "markdown",
   "id": "8d59a32f-8489-4a0d-8358-8d340d025687",
   "metadata": {},
   "source": [
    "## Map title to movie index"
   ]
  },
  {
   "cell_type": "code",
   "execution_count": 304,
   "id": "3f019bdb-d3da-4099-8c97-b5c78f5c122a",
   "metadata": {},
   "outputs": [
    {
     "name": "stdout",
     "output_type": "stream",
     "text": [
      "Movie index for Jumanji: 1\n"
     ]
    }
   ],
   "source": [
    "movie_idx = dict(zip(movies['title'],list(movies.index)))\n",
    "idx= movie_idx[title] \n",
    "print(f'Movie index for Jumanji: {idx}')"
   ]
  },
  {
   "cell_type": "code",
   "execution_count": 305,
   "id": "f542c82f-18ff-43c1-b450-546f8cbb7e88",
   "metadata": {},
   "outputs": [
    {
     "data": {
      "text/plain": [
       "[(53, 1.0000000000000002),\n",
       " (109, 1.0000000000000002),\n",
       " (767, 1.0000000000000002),\n",
       " (1514, 1.0000000000000002),\n",
       " (1556, 1.0000000000000002),\n",
       " (1617, 1.0000000000000002),\n",
       " (1618, 1.0000000000000002),\n",
       " (1799, 1.0000000000000002),\n",
       " (3574, 1.0000000000000002),\n",
       " (6075, 1.0000000000000002)]"
      ]
     },
     "execution_count": 305,
     "metadata": {},
     "output_type": "execute_result"
    }
   ],
   "source": [
    "n_recommendations = 10\n",
    "sim_scores = list(enumerate(cosine_sim[idx]))\n",
    "sim_scores = sorted(sim_scores, key=lambda x:x[1], reverse=True) #get second element of all tuples and sort just that\n",
    "sim_scores = sim_scores[1:(n_recommendations)+1] #1-index to ignore movie title itself\n",
    "sim_scores\n",
    "#gets top 10 most similar movies to Jumanji"
   ]
  },
  {
   "cell_type": "code",
   "execution_count": 306,
   "id": "979a55c7-859e-41a8-83e8-345ee966eea3",
   "metadata": {},
   "outputs": [
    {
     "data": {
      "text/plain": [
       "[53, 109, 767, 1514, 1556, 1617, 1618, 1799, 3574, 6075]"
      ]
     },
     "execution_count": 306,
     "metadata": {},
     "output_type": "execute_result"
    }
   ],
   "source": [
    "similar_movies = [i[0] for i in sim_scores]\n",
    "similar_movies"
   ]
  },
  {
   "cell_type": "code",
   "execution_count": 307,
   "id": "cbcba46b-8991-4789-83e0-c603d537ca57",
   "metadata": {},
   "outputs": [
    {
     "name": "stdout",
     "output_type": "stream",
     "text": [
      "Since you watched Jumanji (1995), we recommend\n"
     ]
    },
    {
     "data": {
      "text/plain": [
       "53                     Indian in the Cupboard, The (1995)\n",
       "109                     NeverEnding Story III, The (1994)\n",
       "767                       Escape to Witch Mountain (1975)\n",
       "1514            Darby O'Gill and the Little People (1959)\n",
       "1556                                  Return to Oz (1985)\n",
       "1617                        NeverEnding Story, The (1984)\n",
       "1618    NeverEnding Story II: The Next Chapter, The (1...\n",
       "1799                        Santa Claus: The Movie (1985)\n",
       "3574    Harry Potter and the Sorcerer's Stone (a.k.a. ...\n",
       "6075    Chronicles of Narnia: The Lion, the Witch and ...\n",
       "Name: title, dtype: object"
      ]
     },
     "execution_count": 307,
     "metadata": {},
     "output_type": "execute_result"
    }
   ],
   "source": [
    "#translate the index to movie title\n",
    "print(f'Since you watched {title}, we recommend')\n",
    "movies['title'].iloc[similar_movies]"
   ]
  },
  {
   "cell_type": "code",
   "execution_count": 308,
   "id": "85bd80ed-111a-4ca4-82ed-a6cb97f2981f",
   "metadata": {},
   "outputs": [],
   "source": [
    "def get_content_based_recommendations(title_string, n_recommendations=10):\n",
    "    title = movie_finder(title_string)\n",
    "    idx=movie_idx[title]\n",
    "    sim_scores = list(enumerate(cosine_sim[idx]))\n",
    "    sim_scores = sorted(sim_scores,key=lambda x:x[1], reverse=True)\n",
    "    sim_scores = sim_scores[1:(n_recommendations)+1]\n",
    "    similar_movies = [i[0] for i in sim_scores]\n",
    "    print(f'Since you watched {title}, we recommend')\n",
    "    print(movies['title'].iloc[similar_movies])"
   ]
  },
  {
   "cell_type": "code",
   "execution_count": 309,
   "id": "15705cde-3be5-410b-ad54-ca4a7cb8302e",
   "metadata": {},
   "outputs": [
    {
     "name": "stdout",
     "output_type": "stream",
     "text": [
      "Since you watched Toy Story (1995), we recommend\n",
      "1706                                       Antz (1998)\n",
      "2355                                Toy Story 2 (1999)\n",
      "2809    Adventures of Rocky and Bullwinkle, The (2000)\n",
      "3000                  Emperor's New Groove, The (2000)\n",
      "3568                             Monsters, Inc. (2001)\n",
      "Name: title, dtype: object\n"
     ]
    }
   ],
   "source": [
    "get_content_based_recommendations(\"toy story\",5)"
   ]
  },
  {
   "cell_type": "markdown",
   "id": "01c86122-3970-4ff1-8c62-12b97ca68191",
   "metadata": {},
   "source": [
    "## Matrix factorization: dimenstionality reduction"
   ]
  },
  {
   "cell_type": "raw",
   "id": "57c15c44-d5dc-49a2-8387-607afeb558b5",
   "metadata": {},
   "source": [
    "MF is a linear algebra technique that helps us discover latent features underlying interactions between users and movies. Latent features give more compact representations of user tastes and item descriptions. MF is useful for very sparse data and can enhance quality of recommendations. \n",
    "\n",
    "It works by factorizing user-item matrix into two factor matrices:\n",
    "1. user-factor matrix(n_users,k)\n",
    "2. item-factor matrix(k, n_items)\n",
    "Reducing the dimensions of original matrix into \"taste\" dimensions. We can't interpret what each latent feature k represents, but we imagine that one feature can represent users who like romantic comedies from 1990s while another can be independent foreign language films.\n",
    "\n"
   ]
  },
  {
   "cell_type": "markdown",
   "id": "118f954f-4c88-4998-82b3-5256345964aa",
   "metadata": {},
   "source": [
    "## Using single value decomposition (SVD)"
   ]
  },
  {
   "cell_type": "code",
   "execution_count": 310,
   "id": "ee87cfbf-9c50-4e8e-a00a-42f3d586bc39",
   "metadata": {},
   "outputs": [
    {
     "data": {
      "text/plain": [
       "(9724, 20)"
      ]
     },
     "execution_count": 310,
     "metadata": {},
     "output_type": "execute_result"
    }
   ],
   "source": [
    "from sklearn.decomposition import TruncatedSVD\n",
    "svd = TruncatedSVD(n_components=20, n_iter=10) \n",
    "#more components, less compressed\n",
    "#more iterations = better, but more computetionally complex\n",
    "Q = svd.fit_transform(X.T) #movies by users, x by y\n",
    "Q.shape"
   ]
  },
  {
   "cell_type": "code",
   "execution_count": 311,
   "id": "8a77ed20-f274-4d71-8cc9-7f5fc7a4c0b4",
   "metadata": {},
   "outputs": [
    {
     "data": {
      "text/plain": [
       "(610, 9724)"
      ]
     },
     "execution_count": 311,
     "metadata": {},
     "output_type": "execute_result"
    }
   ],
   "source": [
    "X.shape \n",
    "#instead of 610 columns for movies, we create a matrix where there are only 20 columns\n",
    "# smaller number = more compact -- might start losing information\n",
    "# there are other techniques, but you need to define an evaluation metric"
   ]
  },
  {
   "cell_type": "code",
   "execution_count": 313,
   "id": "f1e43ed6-2e6c-4d13-a793-70c042ff8e21",
   "metadata": {},
   "outputs": [
    {
     "name": "stdout",
     "output_type": "stream",
     "text": [
      "Since you watched Jumanji (1995), we recommend\n",
      "Home Alone (1990)\n",
      "Jurassic Park (1993)\n",
      "Aladdin (1992)\n",
      "Willy Wonka & the Chocolate Factory (1971)\n",
      "Back to the Future (1985)\n",
      "Forrest Gump (1994)\n",
      "Groundhog Day (1993)\n",
      "Star Wars: Episode IV - A New Hope (1977)\n",
      "Princess Bride, The (1987)\n"
     ]
    }
   ],
   "source": [
    "movie_id = 1\n",
    "similar_movies = find_similar_movies(movie_id, Q.T, movie_mapper, movie_inv_mapper, metric='cosine', k=10)\n",
    "\n",
    "print(f'Since you watched {title}, we recommend')\n",
    "for i in similar_movies:\n",
    "    print(movie_titles[i])"
   ]
  },
  {
   "cell_type": "raw",
   "id": "70d423ba-aafc-4d8a-9787-78bfa09424ef",
   "metadata": {},
   "source": [
    "Evaluating recommendations\n",
    "\n",
    "In traditional MLs, you split it to train and test. This won't work for recommendation systems, if you split it you might have some users only in train and only in test. Because you'll train it based on users who are not in the test set.\n",
    "\n",
    "You have to mask the matrix (pretend you don't know), then you generate recommendations. Then compare the ratings + your recommendations.\n",
    "\n",
    "Approaches: k represents how many recs we're looking at\n",
    "1. RMSE\n",
    "2. Precision: of the top k recs, what proportion are actually \"relevant. Minimize false positives. \n",
    "    p = (True Positives)/ (True Positives+False Positives)\n",
    "3. Recall: proportion of items that were found in top k recommendations\n",
    "    r = (True Positives) / (True Positives+False Negatives)\n",
    "Minimize false negatives. \n",
    "4. F1\n",
    "2,3,4 are information retrieval metrics."
   ]
  }
 ],
 "metadata": {
  "kernelspec": {
   "display_name": "Python 3 (ipykernel)",
   "language": "python",
   "name": "python3"
  },
  "language_info": {
   "codemirror_mode": {
    "name": "ipython",
    "version": 3
   },
   "file_extension": ".py",
   "mimetype": "text/x-python",
   "name": "python",
   "nbconvert_exporter": "python",
   "pygments_lexer": "ipython3",
   "version": "3.12.4"
  }
 },
 "nbformat": 4,
 "nbformat_minor": 5
}
