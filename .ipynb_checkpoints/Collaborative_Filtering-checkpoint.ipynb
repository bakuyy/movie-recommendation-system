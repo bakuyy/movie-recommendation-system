{
 "cells": [
  {
   "cell_type": "markdown",
   "id": "bf4f0b41-c8c2-4772-8740-9d2ca135f2dc",
   "metadata": {},
   "source": [
    "## Imports"
   ]
  },
  {
   "cell_type": "code",
   "execution_count": 1,
   "id": "f102043e-9dce-4b1e-81f2-fc81fd65ee6e",
   "metadata": {},
   "outputs": [],
   "source": [
    "import pandas as pd\n",
    "import numpy as np\n",
    "import matplotlib.pyplot as plt\n",
    "import seaborn as sns"
   ]
  },
  {
   "cell_type": "code",
   "execution_count": 7,
   "id": "2e4e8b50-85d7-44e4-9e3e-31866dbbdc2d",
   "metadata": {},
   "outputs": [],
   "source": [
    "ratings = pd.read_csv('ratings.csv')\n",
    "movies = pd.read_csv('movies.csv')"
   ]
  },
  {
   "cell_type": "code",
   "execution_count": 8,
   "id": "c59d0fd6-3791-4974-9be2-94e75528bc5d",
   "metadata": {},
   "outputs": [
    {
     "name": "stdout",
     "output_type": "stream",
     "text": [
      "Number of ratings 100836\n",
      "Number of movies 9724\n",
      "Number of users = 610\n"
     ]
    }
   ],
   "source": [
    "n_ratings = len(ratings)\n",
    "n_movies = ratings['movieId'].nunique() #gets unique movies\n",
    "n_users = ratings['userId'].nunique()\n",
    "\n",
    "print(f'Number of ratings {n_ratings}')\n",
    "print(f'Number of movies {n_movies}')\n",
    "print(f'Number of users = {n_users}')\n",
    "print(f'Avg number of ratings per user: ')"
   ]
  },
  {
   "cell_type": "code",
   "execution_count": null,
   "id": "0e6d5573-2489-41ad-8f7f-b36d3a495619",
   "metadata": {},
   "outputs": [],
   "source": []
  }
 ],
 "metadata": {
  "kernelspec": {
   "display_name": "Python 3 (ipykernel)",
   "language": "python",
   "name": "python3"
  },
  "language_info": {
   "codemirror_mode": {
    "name": "ipython",
    "version": 3
   },
   "file_extension": ".py",
   "mimetype": "text/x-python",
   "name": "python",
   "nbconvert_exporter": "python",
   "pygments_lexer": "ipython3",
   "version": "3.12.4"
  }
 },
 "nbformat": 4,
 "nbformat_minor": 5
}
